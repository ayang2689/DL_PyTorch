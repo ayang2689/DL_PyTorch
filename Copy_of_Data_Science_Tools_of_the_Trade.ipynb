{
  "nbformat": 4,
  "nbformat_minor": 0,
  "metadata": {
    "colab": {
      "name": "Copy of Data Science: Tools of the Trade.ipynb",
      "provenance": [],
      "collapsed_sections": [],
      "include_colab_link": true
    },
    "kernelspec": {
      "name": "python3",
      "display_name": "Python 3"
    }
  },
  "cells": [
    {
      "cell_type": "markdown",
      "metadata": {
        "id": "view-in-github",
        "colab_type": "text"
      },
      "source": [
        "<a href=\"https://colab.research.google.com/github/ayang2689/DL_PyTorch/blob/master/Copy_of_Data_Science_Tools_of_the_Trade.ipynb\" target=\"_parent\"><img src=\"https://colab.research.google.com/assets/colab-badge.svg\" alt=\"Open In Colab\"/></a>"
      ]
    },
    {
      "cell_type": "markdown",
      "metadata": {
        "id": "bUf-u4qsObXh",
        "colab_type": "text"
      },
      "source": [
        "# Data Science Tools of the Trade\n",
        "- This is Google's Version of a Jupyter Notebook.\n",
        "- Throughout this notebook we will be illustrating some basic Data Science and Machine learning concepts using a preloaded dataset.\n",
        "- Anytime you see a line surrounded by triple asterisks, `***LIKE THIS***`, that is a line of code that you will need to replace or edit.\n",
        "- Have fun and good luck coding!"
      ]
    },
    {
      "cell_type": "markdown",
      "metadata": {
        "id": "2xyIj8tFPDHT",
        "colab_type": "text"
      },
      "source": [
        "> To execute a line or block of code, simply click the \"Play\" button on the left side or use the keyboard shortcut \"Shift + Enter\"\n",
        "> When that code block has actually been executed, the blank brackets will change to have a number inside of them."
      ]
    },
    {
      "cell_type": "code",
      "metadata": {
        "id": "gzTr712wOVz3",
        "colab_type": "code",
        "colab": {}
      },
      "source": [
        "x = ***EDIT THIS CODE***\n",
        "print(x)"
      ],
      "execution_count": 0,
      "outputs": []
    },
    {
      "cell_type": "markdown",
      "metadata": {
        "id": "sgBvwNG9PX7H",
        "colab_type": "text"
      },
      "source": [
        "# Importing Libraries\n",
        "The robust number of Python libraries that have been developed make it easy to accomplish all kinds of tasks! In this notebook, we'll be taking advantage of:\n",
        "- [Pandas](https://pandas.pydata.org/) for data wrangling and statistical analysis\n",
        "- [Matplotlib](https://matplotlib.org/) for visualizing (plotting) our data\n",
        "- [Sklearn](https://scikit-learn.org/stable/) for machine learning and predictive modeling"
      ]
    },
    {
      "cell_type": "code",
      "metadata": {
        "id": "3_T6YEgUPWIm",
        "colab_type": "code",
        "colab": {}
      },
      "source": [
        "import pandas as pd\n",
        "import matplotlib.pyplot as plt\n",
        "from sklearn import datasets\n",
        "\n",
        "%matplotlib inline"
      ],
      "execution_count": 0,
      "outputs": []
    },
    {
      "cell_type": "markdown",
      "metadata": {
        "id": "L2Q19aZ5PbbP",
        "colab_type": "text"
      },
      "source": [
        "# Importing Data\n",
        "To \"do\" data science, we'll need some data to get started.\n",
        "- Scikit-learn comes with several preloaded datasets that are **great** for practicing on.\n",
        "- Pandas DataFrame objects make working with data straightforward, structured, and familiar."
      ]
    },
    {
      "cell_type": "code",
      "metadata": {
        "id": "RGgYQRlCPccx",
        "colab_type": "code",
        "colab": {}
      },
      "source": [
        "iris = datasets.load_iris()\n",
        "df = pd.concat([pd.DataFrame(iris.data, columns = iris.feature_names), \n",
        "                pd.DataFrame(iris.target, columns=['species'])], axis = 1)\n",
        "df['species'] = df['species'].map({0:'setosa', \n",
        "                                   1:'versicolor', \n",
        "                                   2:'virginica'})"
      ],
      "execution_count": 0,
      "outputs": []
    },
    {
      "cell_type": "code",
      "metadata": {
        "id": "qlQq0bYoR_aD",
        "colab_type": "code",
        "colab": {}
      },
      "source": [
        "df.head(5)"
      ],
      "execution_count": 0,
      "outputs": []
    },
    {
      "cell_type": "markdown",
      "metadata": {
        "id": "LfBIOUHxPc-5",
        "colab_type": "text"
      },
      "source": [
        "# Examining One Column Visually\n",
        "During the course of our analysis, we'll use visualizations to answer questions about our data and draw out different trends and patterns within it.\n",
        "- A histogram is a quick way to visualize the distribution of a single variable, or column, from your dataset.\n",
        "- Matplotlib has tons of ways to customize your chart to make it even more aesthetically appealing!"
      ]
    },
    {
      "cell_type": "code",
      "metadata": {
        "id": "fN2QhIa1Pf2C",
        "colab_type": "code",
        "colab": {}
      },
      "source": [
        "plt.hist(df['sepal length (cm)'], color = 'maroon', \n",
        "         edgecolor= 'k', alpha=0.65)\n",
        "plt.title('Distribution of Sepal Length')\n",
        "plt.xlabel('Sepal Length in cm')\n",
        "plt.ylabel('Number of Occurences');"
      ],
      "execution_count": 0,
      "outputs": []
    },
    {
      "cell_type": "markdown",
      "metadata": {
        "id": "Rb-3vK_DGGHk",
        "colab_type": "text"
      },
      "source": [
        "# Summary Stats\n",
        "During the course of your analysis, you'll also use summary statistics to inspect and describe different aspects of your data.\n",
        "- The mean of the `sepal length (cm)` column will be our measure of central tendency in this example.\n",
        "- We'll also take a look at the standard deviation as our measure of spread."
      ]
    },
    {
      "cell_type": "code",
      "metadata": {
        "id": "iKcRQrhdGFbr",
        "colab_type": "code",
        "colab": {}
      },
      "source": [
        "df['sepal length (cm)'].mean()"
      ],
      "execution_count": 0,
      "outputs": []
    },
    {
      "cell_type": "code",
      "metadata": {
        "id": "u8dg62U2GL0K",
        "colab_type": "code",
        "colab": {}
      },
      "source": [
        "df['sepal length (cm)'].std()"
      ],
      "execution_count": 0,
      "outputs": []
    },
    {
      "cell_type": "markdown",
      "metadata": {
        "id": "DG_pws0LPndv",
        "colab_type": "text"
      },
      "source": [
        "# Selecting Features and Output\n",
        "We're just about ready for the predictive modeling phase of our project, but first we'll want to identify 2 different things:\n",
        "1. **Feature matrix**: this is the group of columns (features/variables/attributes) that will be used to determine our outcome.\n",
        "2. **Target array**: this is the series (target/label/outcome) that contains the information that we're ultimately trying to predict.\n",
        "\n",
        "So in this case, we're using the `'sepal length (cm)','sepal width (cm)','petal length (cm)','petal width (cm)'` columns to predict what kind of `species` that particular row (or flower) belongs to!"
      ]
    },
    {
      "cell_type": "code",
      "metadata": {
        "id": "2WG9ROd6Pp7Q",
        "colab_type": "code",
        "colab": {}
      },
      "source": [
        "X = df[['sepal length (cm)','sepal width (cm)',\n",
        "        'petal length (cm)','petal width (cm)']]\n",
        "y = df['species']"
      ],
      "execution_count": 0,
      "outputs": []
    },
    {
      "cell_type": "markdown",
      "metadata": {
        "id": "sNrPU3r0PqkV",
        "colab_type": "text"
      },
      "source": [
        "# Running a Model\n",
        "Now it's time to actually fit our predictive model. Since this is a **classification** problem (3 distinct possible outcomes), we'll use logistic regression, which (despite the name) is one of the first classification models that you should learn about.\n",
        "- Scikit-learn has _tons_ of different models that are available for use so that's where we'll bring in ours from.\n",
        "- We'll then \"fit\" the model with our `X` and `y` from above (our feature matrix and target array).\n",
        "- For each row in our `X`, the model learns the importance of each combination of values in the columns in determining the class distinction of our `y`."
      ]
    },
    {
      "cell_type": "code",
      "metadata": {
        "id": "zyMFV55VPrqn",
        "colab_type": "code",
        "colab": {}
      },
      "source": [
        "from sklearn.linear_model import LogisticRegression"
      ],
      "execution_count": 0,
      "outputs": []
    },
    {
      "cell_type": "code",
      "metadata": {
        "id": "wCQpugt9G_pl",
        "colab_type": "code",
        "colab": {}
      },
      "source": [
        "model = LogisticRegression()\n",
        "model.fit(X, y)"
      ],
      "execution_count": 0,
      "outputs": []
    },
    {
      "cell_type": "markdown",
      "metadata": {
        "id": "zC77oPgXPsV5",
        "colab_type": "text"
      },
      "source": [
        "# Making a prediction\n",
        "Now that our model has learned from the historical data, it's time to make predictions about new or unseen data points! So we'll ask it to make a prediction on a single `new_flower`.\n",
        "- This is a flower with sepal length of 5 cm , sepal width of 5 cm, petal length of 7 cm, and a petal width of 3 cm.\n",
        "- When we execute the `model.predict` line, it will generate an output of one of the 3 species in our dataset.\n",
        "- Try changing the values for our new flower to see how that prediction changes!"
      ]
    },
    {
      "cell_type": "code",
      "metadata": {
        "id": "uiX4lp2NPtgB",
        "colab_type": "code",
        "colab": {}
      },
      "source": [
        "new_flower = [[5, 5, 7, 3]]\n",
        "model.predict(new_flower)"
      ],
      "execution_count": 0,
      "outputs": []
    },
    {
      "cell_type": "markdown",
      "metadata": {
        "id": "Hfwsl1rlPuFU",
        "colab_type": "text"
      },
      "source": [
        "# Welcome to the World of Data Science!\n",
        "Congratulations on taking your first **HUGE** steps in your data science journey! Although there's still a lot to learn within each of the steps that we've outlined above, hopefully you're already starting to see the power of some of the tools that you'll have at your disposal in this field.\n",
        "\n",
        "## Bonus Take Home Challenge\n",
        "The best way to continue improving your proficiency is by taking on new concepts and practicing daily. See if you can implement any of the following tasks in the notebook above:\n",
        "\n",
        "- Create a histogram of a different column or a scatter plot of two different columns.\n",
        "- Generate some summary statistics for the same column(s) and a short note interpreting what those summary statistics mean.\n",
        "- **Stretch goal**: use one other classification model from Scikit-learn on the data.\n",
        "\n",
        "# Keep Learning with Thinkful\n",
        "If you enjoyed today's session and want to take a deeper dive into many of the topics that we covered today like Pandas, SQL, predictive modeling, visualizing your data, and so much more, we'd love to have you join us again!\n",
        "- Check out more of our webinars at [Thinkful Webinars](https://www.thinkful.com/webinars/)\n",
        "- Learn more about the [Data Science Flex Course](https://www.thinkful.com/bootcamp/data-science/flexible/)"
      ]
    }
  ]
}